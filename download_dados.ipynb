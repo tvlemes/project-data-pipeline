{
 "cells": [
  {
   "cell_type": "code",
   "execution_count": 1,
   "metadata": {},
   "outputs": [],
   "source": [
    "import urllib\n",
    "import urllib.request\n",
    "from bs4 import BeautifulSoup\n",
    "import requests\n",
    "from pathlib import Path"
   ]
  },
  {
   "cell_type": "code",
   "execution_count": 20,
   "metadata": {},
   "outputs": [],
   "source": [
    "def obem_dados_censo(\n",
    "        url: str = 'https://www.gov.br/inep/pt-br/acesso-a-informacao/dados-abertos/microdados/censo-escolar',\n",
    "\n",
    ") -> Path:\n",
    "    '''\n",
    "    Realiza o download dos dados do Censo Escolar\n",
    "\n",
    "    :param url: endereço do site do INEP com os dados do censo \\n\n",
    "    :return: caminho para os dados de saída\n",
    "    '''\n",
    "\n",
    "    html = urllib.request.urlopen(url).read()\n",
    "    soup = BeautifulSoup(html, features='html.parser')\n",
    "\n",
    "    # Criando um dicionário com o nome das URL´s para download\n",
    "    #####################################################################################################\n",
    "    # Capturando a class no arquivo HTML cujo nome é external-link \n",
    "    # tags = soup.find_all(\"a\", {\"class\":\"external-link\"})\n",
    "    # tag = tags[0]\n",
    "    # print(tag['href'])\n",
    "\n",
    "    # Outra forma: {'2023.zip': 'https://download.inep.gov.br/dados_abertos/microdados_censo_escolar_2023.zip', \n",
    "    #               '2022.zip': 'https://download.inep.gov.br/dados_abertos/microdados_censo_escolar_2022.zip'...}\n",
    "    links = {tag['href'].split(\"_\")[-1]: tag['href'] for tag in soup.find_all(\"a\", {\"class\":\"external-link\"})}\n",
    "\n",
    "    #####################################################################################################\n",
    "\n",
    "    # Baixando arquivos da URL\n",
    "    #####################################################################################################\n",
    "    caminho_saida = Path(\"dados/censo_escolar\")\n",
    "\n",
    "    # Criando o caminho\n",
    "    # parents=True - vai incluir o caminho pai\n",
    "    # exist_ok=True - se o caminho existir não fará nada\n",
    "    caminho_saida.mkdir(parents=True, exist_ok=True)\n",
    "\n",
    "    # Baixando somente um arquivo\n",
    "    # stream=True - faz o download em paralelo, para não travar\n",
    "    # r = requests.get(links['1995.zip'], stream=True)\n",
    "    with open(caminho_saida / \"1995.zip\", \"wb\") as arq:\n",
    "        arq.write(r.content)\n",
    "\n",
    "    for dado in links:\n",
    "        # stream=True - faz o download em paralelo, para não travar\n",
    "        r = requests.get(links[dado], stream=True)\n",
    "        with open(caminho_saida / \"1995.zip\", \"wb\") as arq:\n",
    "            arq.write(r.content)"
   ]
  },
  {
   "cell_type": "code",
   "execution_count": 21,
   "metadata": {},
   "outputs": [
    {
     "name": "stdout",
     "output_type": "stream",
     "text": [
      "{'2023.zip': 'https://download.inep.gov.br/dados_abertos/microdados_censo_escolar_2023.zip', '2022.zip': 'https://download.inep.gov.br/dados_abertos/microdados_censo_escolar_2022.zip', '2021.zip': 'https://download.inep.gov.br/dados_abertos/microdados_censo_escolar_2021.zip', '2020.zip': 'https://download.inep.gov.br/dados_abertos/microdados_censo_escolar_2020.zip', '2019.zip': 'https://download.inep.gov.br/dados_abertos/microdados_censo_escolar_2019.zip', '2018.zip': 'https://download.inep.gov.br/dados_abertos/microdados_censo_escolar_2018.zip', '2017.zip': 'https://download.inep.gov.br/dados_abertos/microdados_censo_escolar_2017.zip', '2016.zip': 'https://download.inep.gov.br/dados_abertos/microdados_censo_escolar_2016.zip', '2015.zip': 'https://download.inep.gov.br/dados_abertos/microdados_censo_escolar_2015.zip', '2014.zip': 'https://download.inep.gov.br/dados_abertos/microdados_censo_escolar_2014.zip', '2013.zip': 'https://download.inep.gov.br/dados_abertos/microdados_censo_escolar_2013.zip', '2012.zip': 'https://download.inep.gov.br/dados_abertos/microdados_censo_escolar_2012.zip', '2011.zip': 'https://download.inep.gov.br/dados_abertos/microdados_censo_escolar_2011.zip', '2010.zip': 'https://download.inep.gov.br/dados_abertos/microdados_censo_escolar_2010.zip', '2009.zip': 'https://download.inep.gov.br/dados_abertos/microdados_censo_escolar_2009.zip', '2008.zip': 'https://download.inep.gov.br/dados_abertos/microdados_censo_escolar_2008.zip', '2007.zip': 'https://download.inep.gov.br/dados_abertos/microdados_censo_escolar_2007.zip', '2006.zip': 'https://download.inep.gov.br/dados_abertos/microdados_censo_escolar_2006.zip', '2005.zip': 'https://download.inep.gov.br/dados_abertos/microdados_censo_escolar_2005.zip', '2004.zip': 'https://download.inep.gov.br/dados_abertos/microdados_censo_escolar_2004.zip', '2003.zip': 'https://download.inep.gov.br/dados_abertos/microdados_censo_escolar_2003.zip', '2002.zip': 'https://download.inep.gov.br/dados_abertos/microdados_censo_escolar_2002.zip', '2001.zip': 'https://download.inep.gov.br/dados_abertos/microdados_censo_escolar_2001.zip', '2000.zip': 'https://download.inep.gov.br/dados_abertos/microdados_censo_escolar_2000.zip', '1999.zip': 'https://download.inep.gov.br/dados_abertos/microdados_censo_escolar_1999.zip', '1998.zip': 'https://download.inep.gov.br/dados_abertos/microdados_censo_escolar_1998.zip', '1997.zip': 'https://download.inep.gov.br/dados_abertos/microdados_censo_escolar_1997.zip', '1996.zip': 'https://download.inep.gov.br/dados_abertos/microdados_censo_escolar_1996.zip', '1995.zip': 'https://download.inep.gov.br/dados_abertos/microdados_censo_escolar_1995.zip'}\n"
     ]
    }
   ],
   "source": [
    "obem_dados_censo()"
   ]
  },
  {
   "cell_type": "code",
   "execution_count": 42,
   "metadata": {},
   "outputs": [],
   "source": [
    "%reload_ext autoreload\n",
    "%autoreload 2\n",
    "import src.aquisicao.inep.base_inep as etl_base_inep "
   ]
  },
  {
   "cell_type": "code",
   "execution_count": 43,
   "metadata": {},
   "outputs": [],
   "source": [
    "inep_etl = etl_base_inep.BaseINEPETL(\"dados/censo_escolar\", \"saida/aquisicao\", \"censo-escolar\")"
   ]
  },
  {
   "cell_type": "code",
   "execution_count": 44,
   "metadata": {},
   "outputs": [
    {
     "data": {
      "text/plain": [
       "{'2023.zip': 'https://download.inep.gov.br/dados_abertos/microdados_censo_escolar_2023.zip',\n",
       " '2022.zip': 'https://download.inep.gov.br/dados_abertos/microdados_censo_escolar_2022.zip',\n",
       " '2021.zip': 'https://download.inep.gov.br/dados_abertos/microdados_censo_escolar_2021.zip',\n",
       " '2020.zip': 'https://download.inep.gov.br/dados_abertos/microdados_censo_escolar_2020.zip',\n",
       " '2019.zip': 'https://download.inep.gov.br/dados_abertos/microdados_censo_escolar_2019.zip',\n",
       " '2018.zip': 'https://download.inep.gov.br/dados_abertos/microdados_censo_escolar_2018.zip',\n",
       " '2017.zip': 'https://download.inep.gov.br/dados_abertos/microdados_censo_escolar_2017.zip',\n",
       " '2016.zip': 'https://download.inep.gov.br/dados_abertos/microdados_censo_escolar_2016.zip',\n",
       " '2015.zip': 'https://download.inep.gov.br/dados_abertos/microdados_censo_escolar_2015.zip',\n",
       " '2014.zip': 'https://download.inep.gov.br/dados_abertos/microdados_censo_escolar_2014.zip',\n",
       " '2013.zip': 'https://download.inep.gov.br/dados_abertos/microdados_censo_escolar_2013.zip',\n",
       " '2012.zip': 'https://download.inep.gov.br/dados_abertos/microdados_censo_escolar_2012.zip',\n",
       " '2011.zip': 'https://download.inep.gov.br/dados_abertos/microdados_censo_escolar_2011.zip',\n",
       " '2010.zip': 'https://download.inep.gov.br/dados_abertos/microdados_censo_escolar_2010.zip',\n",
       " '2009.zip': 'https://download.inep.gov.br/dados_abertos/microdados_censo_escolar_2009.zip',\n",
       " '2008.zip': 'https://download.inep.gov.br/dados_abertos/microdados_censo_escolar_2008.zip',\n",
       " '2007.zip': 'https://download.inep.gov.br/dados_abertos/microdados_censo_escolar_2007.zip',\n",
       " '2006.zip': 'https://download.inep.gov.br/dados_abertos/microdados_censo_escolar_2006.zip',\n",
       " '2005.zip': 'https://download.inep.gov.br/dados_abertos/microdados_censo_escolar_2005.zip',\n",
       " '2004.zip': 'https://download.inep.gov.br/dados_abertos/microdados_censo_escolar_2004.zip',\n",
       " '2003.zip': 'https://download.inep.gov.br/dados_abertos/microdados_censo_escolar_2003.zip',\n",
       " '2002.zip': 'https://download.inep.gov.br/dados_abertos/microdados_censo_escolar_2002.zip',\n",
       " '2001.zip': 'https://download.inep.gov.br/dados_abertos/microdados_censo_escolar_2001.zip',\n",
       " '2000.zip': 'https://download.inep.gov.br/dados_abertos/microdados_censo_escolar_2000.zip',\n",
       " '1999.zip': 'https://download.inep.gov.br/dados_abertos/microdados_censo_escolar_1999.zip',\n",
       " '1998.zip': 'https://download.inep.gov.br/dados_abertos/microdados_censo_escolar_1998.zip',\n",
       " '1997.zip': 'https://download.inep.gov.br/dados_abertos/microdados_censo_escolar_1997.zip',\n",
       " '1996.zip': 'https://download.inep.gov.br/dados_abertos/microdados_censo_escolar_1996.zip',\n",
       " '1995.zip': 'https://download.inep.gov.br/dados_abertos/microdados_censo_escolar_1995.zip'}"
      ]
     },
     "execution_count": 44,
     "metadata": {},
     "output_type": "execute_result"
    }
   ],
   "source": [
    "inep_etl.le_pagina_inep()"
   ]
  },
  {
   "cell_type": "code",
   "execution_count": null,
   "metadata": {},
   "outputs": [],
   "source": []
  }
 ],
 "metadata": {
  "kernelspec": {
   "display_name": "Python 3",
   "language": "python",
   "name": "python3"
  },
  "language_info": {
   "codemirror_mode": {
    "name": "ipython",
    "version": 3
   },
   "file_extension": ".py",
   "mimetype": "text/x-python",
   "name": "python",
   "nbconvert_exporter": "python",
   "pygments_lexer": "ipython3",
   "version": "3.12.2"
  }
 },
 "nbformat": 4,
 "nbformat_minor": 2
}
